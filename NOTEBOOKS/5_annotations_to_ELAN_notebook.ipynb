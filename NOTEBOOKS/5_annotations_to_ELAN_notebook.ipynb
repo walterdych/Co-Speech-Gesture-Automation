{
 "cells": [
  {
   "cell_type": "markdown",
   "metadata": {},
   "source": [
    "# <strong>5: ELAN Annotation Notebook |</strong>\n"
   ]
  },
  {
   "cell_type": "markdown",
   "metadata": {},
   "source": [
    "### <strong>Requirements</strong>\n",
    "\n",
    "To run this notebook, you will need the following Python packages:\n",
    "\n",
    "- pandas"
   ]
  },
  {
   "cell_type": "code",
   "execution_count": null,
   "metadata": {},
   "outputs": [],
   "source": [
    "import os\n",
    "import pandas as pd"
   ]
  },
  {
   "cell_type": "code",
   "execution_count": null,
   "metadata": {},
   "outputs": [],
   "source": [
    "input_directory = '../Gestures/'  # Replace with your directory path\n",
    "output_directory = '../Annotations/'  # Replace with your desired output directory\n",
    "tier = 'gesture_id'  # Replace with your desired tier name"
   ]
  },
  {
   "cell_type": "markdown",
   "metadata": {},
   "source": [
    "### <strong>Export Apex Annotations</strong>"
   ]
  },
  {
   "cell_type": "code",
   "execution_count": null,
   "metadata": {},
   "outputs": [],
   "source": [
    "# Iterate through all CSV files in the directory\n",
    "for filename in os.listdir(input_directory):\n",
    "    if filename.endswith('.csv'):\n",
    "        # Read the CSV file\n",
    "        file_path = os.path.join(input_directory, filename)\n",
    "        gest_df = pd.read_csv(file_path)\n",
    "\n",
    "        gest_df['change_points'] = gest_df[tier].shift(1) != gest_df[tier]\n",
    "        gest_df['time_ms'] = gest_df['time_ms'] / 1000\n",
    "        grouped_gest_df = gest_df.groupby((gest_df['change_points']).cumsum())\n",
    "        gest_df = pd.DataFrame({\n",
    "            'Begin Time': grouped_gest_df['time_ms'].first(),\n",
    "            'End Time': grouped_gest_df['time_ms'].last(),\n",
    "            tier: grouped_gest_df[tier].first(),\n",
    "        })\n",
    "        gest_df = gest_df.dropna(subset=[tier])\n",
    "        gest_df = gest_df[gest_df[tier] != 0]\n",
    "        gest_df['End Time'] = gest_df['End Time'] + 0.033\n",
    "\n",
    "        # Save the modified DataFrame\n",
    "        output_file_path = os.path.join(output_directory, filename.split('.')[0] + f'_elan_{tier}.csv')\n",
    "        gest_df.to_csv(output_file_path, index=False)"
   ]
  },
  {
   "cell_type": "code",
   "execution_count": null,
   "metadata": {},
   "outputs": [],
   "source": [
    "gest_df.head(20)"
   ]
  },
  {
   "cell_type": "code",
   "execution_count": null,
   "metadata": {},
   "outputs": [],
   "source": []
  }
 ],
 "metadata": {
  "kernelspec": {
   "display_name": "Python 3",
   "language": "python",
   "name": "python3"
  },
  "language_info": {
   "codemirror_mode": {
    "name": "ipython",
    "version": 3
   },
   "file_extension": ".py",
   "mimetype": "text/x-python",
   "name": "python",
   "nbconvert_exporter": "python",
   "pygments_lexer": "ipython3",
   "version": "3.11.7"
  }
 },
 "nbformat": 4,
 "nbformat_minor": 4
}
