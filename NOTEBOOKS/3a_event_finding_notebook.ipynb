{
 "cells": [
  {
   "cell_type": "markdown",
   "id": "e76a00f9-a11e-4fe3-b66f-3af5f4dc7fab",
   "metadata": {},
   "source": [
    "# <strong><u> 3a: Event Finding Notebook\n",
    "This notebook is designed with the purpose of identifying gesture events based on kinematic features of the motion tracking data."
   ]
  },
  {
   "cell_type": "code",
   "execution_count": null,
   "id": "694bbf9b-b11f-42e4-b392-22cab0c98ba5",
   "metadata": {},
   "outputs": [],
   "source": [
    "import pandas as pd\n",
    "import numpy as np\n",
    "from scipy.signal import find_peaks"
   ]
  },
  {
   "cell_type": "markdown",
   "id": "ac70cd82-42e1-44b3-9253-396391581f9e",
   "metadata": {},
   "source": [
    "### <strong> Import Data"
   ]
  },
  {
   "cell_type": "code",
   "execution_count": null,
   "id": "6294dd0c-9223-46fc-8cf5-828f4591a730",
   "metadata": {},
   "outputs": [],
   "source": [
    "PARTICIPANT = 'TEST_VIDEO'\n",
    "df = pd.read_csv(f\"../Upsampled/{PARTICIPANT}_processed_data.csv\")\n",
    "df.head()"
   ]
  },
  {
   "cell_type": "markdown",
   "id": "884daad9-bbfd-406c-9153-4a23ecb754b1",
   "metadata": {},
   "source": [
    "### <Strong> Gather Peaks in the Speed Curve"
   ]
  },
  {
   "cell_type": "code",
   "execution_count": null,
   "id": "805ab044-f975-4f54-be0e-8e89e091c24d",
   "metadata": {},
   "outputs": [],
   "source": [
    "# Using scipy's find_peaks method to find peaks in the 'right_wrist_speed' column and save \n",
    "peaks, _ = find_peaks(df['right_wrist_speed'], height=(np.percentile(df['right_wrist_speed'], 70)))  # height parameter can be adjusted based on your specific needs\n",
    "# Keep the time values of the peaks\n",
    "peak_times = df['time_ms'][peaks]\n",
    "peak_times"
   ]
  },
  {
   "cell_type": "markdown",
   "id": "013a40d0-e0b1-45ce-ab55-0781e71a6a30",
   "metadata": {},
   "source": [
    "### <strong> Find the onset/offset of Peaks "
   ]
  },
  {
   "cell_type": "code",
   "execution_count": null,
   "id": "ed225d03-d3ca-4754-bffd-be0113aff144",
   "metadata": {},
   "outputs": [],
   "source": [
    "# Initialize empty lists to store onset and offset points\n",
    "onsets = []\n",
    "offsets = []\n",
    "\n",
    "# Define a threshold for onset and offset detection; this can be adjusted based on your needs\n",
    "onset_threshold = np.percentile(df['right_wrist_speed'], 5)\n",
    "offset_threshold = np.percentile(df['right_wrist_speed'], 5)\n",
    "\n",
    "# Loop through each peak to find the corresponding onset and offset\n",
    "for peak in peaks:\n",
    "    # Find onset by iterating backwards from the peak until the speed drops below the threshold\n",
    "    onset = peak\n",
    "    while onset > 0 and df['right_wrist_speed'][onset] > onset_threshold:\n",
    "        onset -= 1\n",
    "    onsets.append(df['time_ms'][onset])  # Store the actual time value instead of the index\n",
    "    \n",
    "    # Find offset by iterating forwards from the peak until the speed drops below the threshold\n",
    "    offset = peak\n",
    "    while offset < len(df) - 1 and df['right_wrist_speed'][offset] > offset_threshold:\n",
    "        offset += 1\n",
    "    offsets.append(df['time_ms'][offset])  # Store the actual time value instead of the index"
   ]
  },
  {
   "cell_type": "markdown",
   "id": "10333444-86bf-421f-9e39-ff9c33a18b5f",
   "metadata": {},
   "source": [
    "### <strong> Event Composition\n",
    "Matching pairs of onset and offsets and combining to form full gesture events."
   ]
  },
  {
   "cell_type": "code",
   "execution_count": null,
   "id": "dbd80c33-3793-4f23-861d-f8477694fa2d",
   "metadata": {},
   "outputs": [],
   "source": [
    "# Pair each onset with the next offset to form complete gestures\n",
    "events = list(zip(onsets, offsets))\n",
    "events_df = pd.DataFrame(events, columns=['onset', 'offset'])\n",
    "\n",
    "# Keep only the first instance of each onset offset pair\n",
    "events_df.drop_duplicates(subset=['onset', 'offset'], inplace=True)\n",
    "\n",
    "# Calculate the duration of each gesture\n",
    "events_df['duration'] = events_df['offset'] - events_df['onset']\n",
    "\n",
    "# Reset the DataFrame's index\n",
    "events_df.reset_index(drop=True, inplace=True)\n",
    "\n",
    "# Asign gesture id to each gesture\n",
    "events_df['gesture_id'] = events_df.index + 1\n",
    "\n",
    "# If the offset of one gesture is within 50 ms of the onset of the next, combine them into one gesture\n",
    "for i in range(len(events_df) - 1):\n",
    "    if events_df['onset'][i + 1] - events_df['offset'][i] < 50:\n",
    "        events_df['offset'][i] = events_df['offset'][i + 1]\n",
    "        events_df['duration'][i] = events_df['offset'][i] - events_df['onset'][i]\n",
    "        events_df['gesture_id'][i + 1] = events_df['gesture_id'][i]\n",
    "\n",
    "# Using the events_df DataFrame, create a new column in the original dataframe and apply the gesture_id to where they belong in the original dataframe\n",
    "df['gesture_id'] = np.nan\n",
    "\n",
    "for i in range(len(events_df)):\n",
    "    start = events_df['onset'][i]\n",
    "    end = events_df['offset'][i]\n",
    "    df['gesture_id'] = np.where((df['time_ms'] >= start) & (df['time_ms'] <= end), events_df['gesture_id'][i], df['gesture_id'])"
   ]
  },
  {
   "cell_type": "code",
   "execution_count": null,
   "id": "7195002c-a699-4ed3-a067-a561d7c8e52f",
   "metadata": {
    "jupyter": {
     "source_hidden": true
    },
    "tags": []
   },
   "outputs": [],
   "source": [
    "# Plot the gesture_id column to see the results\n",
    "import plotly.graph_objects as go\n",
    "\n",
    "fig = go.Figure()\n",
    "\n",
    "# Add the first trace with the gesture_id column\n",
    "fig.add_trace(go.Scatter(x=df['time_ms'], y=df['gesture_id'], name='Gesture ID'))\n",
    "\n",
    "# Add the second trace with the right_wrist_speed column\n",
    "fig.add_trace(go.Scatter(x=df['time_ms'], y=df['right_wrist_speed'], name='Right Wrist Speed', yaxis='y2'))\n",
    "\n",
    "# Set the layout with two y-axes\n",
    "fig.update_layout(\n",
    "       yaxis=dict(\n",
    "              title='Gesture ID',\n",
    "              titlefont=dict(color='blue'),\n",
    "              tickfont=dict(color='blue')\n",
    "       ),\n",
    "       yaxis2=dict(\n",
    "              title='Right Wrist Speed',\n",
    "              titlefont=dict(color='red'),\n",
    "              tickfont=dict(color='red'),\n",
    "              overlaying='y',\n",
    "              side='right'\n",
    "       ),\n",
    "       # change size of the figure\n",
    "       width=1000,\n",
    "       height=800\n",
    ")\n",
    "\n",
    "fig.show()"
   ]
  },
  {
   "cell_type": "code",
   "execution_count": null,
   "id": "5439eb6e-e92d-45bf-944c-348c3bac1d1a",
   "metadata": {},
   "outputs": [],
   "source": [
    "# Save the new annotated dataframe as a csv file\n",
    "df.to_csv(f'../Events/{PARTICIPANT}_events_found.csv', index=False)"
   ]
  },
  {
   "cell_type": "code",
   "execution_count": null,
   "id": "15e123cf",
   "metadata": {},
   "outputs": [],
   "source": []
  }
 ],
 "metadata": {
  "kernelspec": {
   "display_name": "Python 3",
   "language": "python",
   "name": "python3"
  },
  "language_info": {
   "codemirror_mode": {
    "name": "ipython",
    "version": 3
   },
   "file_extension": ".py",
   "mimetype": "text/x-python",
   "name": "python",
   "nbconvert_exporter": "python",
   "pygments_lexer": "ipython3",
   "version": "3.11.7"
  }
 },
 "nbformat": 4,
 "nbformat_minor": 5
}
