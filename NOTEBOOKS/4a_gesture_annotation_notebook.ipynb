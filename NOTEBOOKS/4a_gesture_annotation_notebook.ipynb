{
 "cells": [
  {
   "cell_type": "markdown",
   "metadata": {},
   "source": [
    "# <strong> 4a: Gesture Annotation Notebook"
   ]
  },
  {
   "cell_type": "code",
   "execution_count": null,
   "metadata": {},
   "outputs": [],
   "source": [
    "import pandas as pd\n",
    "import numpy as np\n",
    "from scipy.signal import find_peaks\n",
    "from sklearn.preprocessing import MinMaxScaler"
   ]
  },
  {
   "cell_type": "code",
   "execution_count": null,
   "metadata": {},
   "outputs": [],
   "source": [
    "PARTICIPANT = 'TEST_VIDEO'\n",
    "df = pd.read_csv(f'../Events/{PARTICIPANT}_events_found.csv')"
   ]
  },
  {
   "cell_type": "code",
   "execution_count": null,
   "metadata": {},
   "outputs": [],
   "source": [
    "from scipy.signal import peak_prominences\n",
    "\n",
    "# Correcting the previous cell by importing the required function\n",
    "# and redefining the function to find the two highest peaks and mark intervals\n",
    "def mark_peak_intervals(df):\n",
    "    # Create a DataFrame to store peaks and min values\n",
    "    peaks_df = pd.DataFrame(index=df.index)\n",
    "    peaks_df['gesture_id'] = df['gesture_id']\n",
    "    peaks_df['peaks'] = 0\n",
    "    peaks_df['min'] = 0\n",
    "\n",
    "    # Group by 'gesture_id' and find peaks for each gesture\n",
    "    for gesture_id, group in df.groupby('gesture_id'):\n",
    "        if group.shape[0] > 3:  # Need at least 3 points to define two peaks\n",
    "            # Assuming 'right_wrist_speed' is the column to analyze for peaks\n",
    "            speeds = group['right_wrist_speed'].values\n",
    "            peaks, _ = find_peaks(speeds, distance=1)\n",
    "            # Sort peaks by prominence and take the two highest\n",
    "            prominences = peak_prominences(speeds, peaks)[0]\n",
    "            sorted_peaks = peaks[np.argsort(prominences)[-2:]]\n",
    "            # Mark the intervals between the two highest peaks\n",
    "            if sorted_peaks.size == 2:\n",
    "                peaks_df.loc[group.index[min(sorted_peaks):max(sorted_peaks)+1], 'peaks'] = 1\n",
    "                # Find the absolute smallest valley within the peak interval\n",
    "                valley = np.argmin(speeds[min(sorted_peaks):max(sorted_peaks)+1]) + min(sorted_peaks)\n",
    "                peaks_df.loc[group.index[valley], 'min'] = 1\n",
    "\n",
    "    return peaks_df\n",
    "\n",
    "# Apply the function to the df\n",
    "peaks_data = mark_peak_intervals(df)\n",
    "peaks_data.head()"
   ]
  },
  {
   "cell_type": "code",
   "execution_count": null,
   "metadata": {},
   "outputs": [],
   "source": [
    "# Align the peaks df with the original df\n",
    "df['peaks'] = peaks_data['peaks']\n",
    "df['min'] = peaks_data['min']\n",
    "df.head()"
   ]
  },
  {
   "cell_type": "code",
   "execution_count": null,
   "metadata": {
    "jupyter": {
     "source_hidden": true
    },
    "tags": []
   },
   "outputs": [],
   "source": [
    "# plot the results using plotly.graph_objects\n",
    "import plotly.graph_objects as go\n",
    "\n",
    "# Filter the df to only include rows where 'min' and 'peaks' are equal to 1\n",
    "min_df = df[df['min'] == 1]\n",
    "peaks_df = df[df['peaks'] == 1]\n",
    "\n",
    "fig = go.Figure()\n",
    "fig.add_trace(go.Scatter(x=df['time_ms'], y=df['right_wrist_speed'], name='Speed'))\n",
    "fig.add_trace(go.Scatter(x=peaks_df['time_ms'], y=peaks_df['right_wrist_speed'], name='Peaks', mode='markers'))\n",
    "fig.add_trace(go.Scatter(x=min_df['time_ms'], y=min_df['right_wrist_speed'], name='Min', mode='markers'))\n",
    "fig.update_layout(title='Speed with Peaks and Min Values',\n",
    "                    # change size of the figure\n",
    "                    width=1000,\n",
    "                    height=800)\n",
    "fig.show()\n"
   ]
  },
  {
   "cell_type": "code",
   "execution_count": null,
   "metadata": {},
   "outputs": [],
   "source": [
    "def mark_crossings(df):\n",
    "    # Add columns for crossing points\n",
    "    df['right_wrist_delta_x_cross'] = 0\n",
    "    df['right_wrist_delta_y_cross'] = 0\n",
    "\n",
    "    # Group by 'gesture_id' and find crossings for each gesture\n",
    "    for gesture_id, group in df.groupby('gesture_id'):\n",
    "        if gesture_id != 'nan':  # Skip gesture_id = 0\n",
    "            # Find where the right wrist delta x crosses 0\n",
    "            delta_x = group['right_wrist_delta_x'].values\n",
    "            cross_x = np.where(np.diff(np.sign(delta_x)))[0]\n",
    "            df.loc[group.index[cross_x], 'right_wrist_delta_x_cross'] = 1\n",
    "\n",
    "            # Find where the right wrist delta y crosses 0\n",
    "            delta_y = group['right_wrist_delta_y'].values\n",
    "            cross_y = np.where(np.diff(np.sign(delta_y)))[0]\n",
    "            df.loc[group.index[cross_y], 'right_wrist_delta_y_cross'] = 1\n",
    "\n",
    "    return df\n",
    "\n",
    "# Apply the function to the data and peaks_df\n",
    "crossings_data = mark_crossings(df)\n",
    "crossings_data.head()\n"
   ]
  },
  {
   "cell_type": "code",
   "execution_count": null,
   "metadata": {},
   "outputs": [],
   "source": [
    "df.to_csv(f'../Gestures/{PARTICIPANT}_gestures_found.csv', index=False)"
   ]
  },
  {
   "cell_type": "code",
   "execution_count": null,
   "metadata": {},
   "outputs": [],
   "source": [
    "import matplotlib.pyplot as plt\n",
    "import matplotlib.patches as patches\n",
    "import seaborn as sns\n",
    "\n",
    "# Set the limits of the x-axis and y-axis\n",
    "x_min = 37300\n",
    "x_max = 39000\n",
    "y_min = 0\n",
    "y_max = .7\n",
    "\n",
    "# Create the plot\n",
    "fig, ax = plt.subplots(figsize=(6, 6))\n",
    "sns.lineplot(data=df, x='time_ms', y='right_wrist_speed', label='Speed', ax=ax, color='black', linewidth=2)\n",
    "sns.scatterplot(data=peaks_df, x='time_ms', y='right_wrist_speed', label='Inter-Peak', color='grey', ax=ax, s=100)\n",
    "sns.scatterplot(data=min_df, x='time_ms', y='right_wrist_speed', label='Minimum', color='red', ax=ax, s=100)\n",
    "\n",
    "# Set the plot title and labels\n",
    "plt.title('Speed with Peaks and Min Values', fontsize=16)\n",
    "plt.xlabel('Time (ms)', fontsize=14)\n",
    "plt.ylabel('Right Wrist Speed', fontsize=14)\n",
    "\n",
    "# Set the limits of the x-axis and y-axis\n",
    "plt.xlim(x_min, x_max)\n",
    "plt.ylim(y_min, y_max)\n",
    "plt.legend(loc='upper right')\n",
    "# Show the plot\n",
    "plt.show()"
   ]
  },
  {
   "cell_type": "code",
   "execution_count": null,
   "metadata": {},
   "outputs": [],
   "source": []
  }
 ],
 "metadata": {
  "kernelspec": {
   "display_name": "Python 3",
   "language": "python",
   "name": "python3"
  },
  "language_info": {
   "codemirror_mode": {
    "name": "ipython",
    "version": 3
   },
   "file_extension": ".py",
   "mimetype": "text/x-python",
   "name": "python",
   "nbconvert_exporter": "python",
   "pygments_lexer": "ipython3",
   "version": "3.11.7"
  }
 },
 "nbformat": 4,
 "nbformat_minor": 4
}
