{
 "cells": [
  {
   "cell_type": "markdown",
   "id": "92a49392",
   "metadata": {},
   "source": [
    "# <strong><u>2: Speed and Upsample Notebook |</u></strong>\n",
    "\n",
    "This notebook is designed for speed alignment and data up-sampling in gesture analysis. It uses Python libraries like Pandas for data management, NumPy for numerical operations, and Matplotlib for plotting.\n",
    "\n",
    "In this workflow, the notebook reads in keypoint data from a pickled DataFrame and performs operations to align speed and upsample the data.\n",
    "\n",
    "### <strong>Requirements</strong>\n",
    "\n",
    "To run this notebook, you will need the following Python packages:\n",
    "\n",
    "- pandas\n",
    "- numpy\n",
    "- scipy\n",
    "- matplotlib\n",
    "\n",
    "You can install these packages using pip:\n",
    "```shell\n",
    "    pip install pandas numpy scipy matplotlib\n",
    "```\n",
    "\n",
    "### <strong>Key Variables and Functions</strong>\n",
    "- `KEYPOINT`: Variable specifying which keypoint (e.g., \"right_wrist\") to focus on\n",
    "- `keypoints_df`: DataFrame storing keypoint data\n"
   ]
  },
  {
   "cell_type": "markdown",
   "id": "3ee46c5d",
   "metadata": {},
   "source": [
    "\n",
    "### <strong>Importing Libraries</strong>\n",
    "- `pandas`: For DataFrame operations and data analysis\n",
    "- `numpy`: For numerical computations\n",
    "- `scipy`: For scientific computations, including filtering\n",
    "- `matplotlib`: For plotting and visualizations\n"
   ]
  },
  {
   "cell_type": "code",
   "execution_count": null,
   "id": "25bc7b51",
   "metadata": {},
   "outputs": [],
   "source": [
    "import pandas as pd\n",
    "import numpy as np\n",
    "from scipy.signal import savgol_filter\n",
    "import matplotlib.pyplot as plt\n",
    "from scipy.interpolate import interp1d"
   ]
  },
  {
   "cell_type": "markdown",
   "id": "408c75fd",
   "metadata": {},
   "source": [
    "### <strong>Choosing The Right Keypoints</strong>\n",
    "\n",
    "Using this script, we can isolate the keypoints with which we would like to perform the analyses on. Below is our index of Keypoints as `keypoint_name(keypoint_id)`:\n",
    "\n",
    "![Keypoints](https://i.imgur.com/SkXsWRZ.png)\n",
    "\n",
    "### <strong><u>Available Keypoints:</u></strong>\n",
    "<ul>\n",
    "    <li><font color='#f2ce72'>nose</font>\n",
    "    <li><font color='#f2ce72'>right_eye</font>\n",
    "    <li><font color='#f2ce72'>left_eye</font>\n",
    "    <li><font color='#f2ce72'>right_shoulder</font>\n",
    "    <li><font color='#f2ce72'>left_shoulder</font>\n",
    "    <li><font color='#f2ce72'>right_elbow</font>\n",
    "    <li><font color='#f2ce72'>left_elbow</font>\n",
    "    <li><font color='#f2ce72'>right_wrist</font>\n",
    "    <li><font color='#f2ce72'>left_wrist</font>\n",
    "</ul>\n"
   ]
  },
  {
   "cell_type": "code",
   "execution_count": null,
   "id": "84cfe298",
   "metadata": {},
   "outputs": [],
   "source": [
    "PARTICIPANT = \"TEST_VIDEO\"\n",
    "KEYPOINTS = [\"right_wrist\", \"right_index\"]"
   ]
  },
  {
   "cell_type": "markdown",
   "id": "38721ba6",
   "metadata": {},
   "source": [
    "### <strong>Load Data</strong>\n",
    "In this section, the data is loaded into the notebook for further processing. You can adjust the source file paths as needed."
   ]
  },
  {
   "cell_type": "code",
   "execution_count": null,
   "id": "d67d7293",
   "metadata": {},
   "outputs": [],
   "source": [
    "# Load keypoint data\n",
    "keypoints_df = pd.read_csv('../Keypoints/' + PARTICIPANT + '_keypoints.csv', encoding='utf-8')\n",
    "column_names = [\n",
    "    \"time_ms\", \n",
    "    \"right_shoulder_x\", \"right_shoulder_y\", \n",
    "    \"left_shoulder_x\", \"left_shoulder_y\", \n",
    "    \"right_elbow_x\", \"right_elbow_y\", \n",
    "    \"left_elbow_x\", \"left_elbow_y\", \n",
    "    \"right_wrist_x\", \"right_wrist_y\", \n",
    "    \"left_wrist_x\", \"left_wrist_y\", \n",
    "    \"right_eye_x\", \"right_eye_y\", \n",
    "    \"left_eye_x\", \"left_eye_y\",\n",
    "    \"nose_x\", \"nose_y\",\n",
    "    \"right_index_x\", \"right_index_y\"\n",
    "]\n",
    "\n",
    "keypoints_df.columns = column_names\n",
    "\n",
    "keypoints_df"
   ]
  },
  {
   "cell_type": "markdown",
   "id": "d90ae685",
   "metadata": {},
   "source": [
    "### <strong>Calculate Unsmoothed Speed</strong>\n",
    "Here, the speed of the right wrist is calculated without any smoothing. Parameters such as the sampling rate can be adjusted.\n",
    "\n",
    "### <strong>Apply Savitzky-Golay Filtering</strong>\n",
    "The Savitzky-Golay filtering method is applied to smooth the speed data. You can adjust the window size and polynomial order.\n",
    "\n",
    "This code block is used to smooth the values in the `speed_unsmooth` column of a Pandas DataFrame called `keypoints_df`. The first line of code sets any values in the `speed_unsmooth` column that are below the 20th percentile to 0, effectively removing any low-speed outliers from the data. The second line of code applies a Savitzky-Golay filter to the `speed_unsmooth` column with a window size of 9 and a polynomial order of 2, and stores the smoothed values in a new column called `speed_smooth`.\n",
    "\n",
    "The `np.percentile()` function is used to calculate the 20th percentile of the `speed_unsmooth` column, which is used as the threshold for removing low-speed outliers. The `savgol_filter()` function is used to apply a Savitzky-Golay filter to the `speed_unsmooth` column, which is a type of smoothing filter that can be used to remove noise from data while preserving important features such as peaks and valleys.\n",
    "\n",
    "Overall, this code block is used to smooth the values in the `speed_unsmooth` column of a DataFrame using a Savitzky-Golay filter, and remove low-speed outliers from the data. Possible ways to improve the code include adding comments to explain the purpose of each line of code, and using more descriptive variable names."
   ]
  },
  {
   "cell_type": "code",
   "execution_count": null,
   "id": "63960a4b",
   "metadata": {},
   "outputs": [],
   "source": [
    "# Initialize an empty DataFrame to store final results\n",
    "final_df = pd.DataFrame()\n",
    "\n",
    "# Generate the new time series at 10 ms intervals\n",
    "new_time_series = np.arange(keypoints_df['time_ms'].iloc[0], keypoints_df['time_ms'].iloc[-1], 10)\n",
    "\n",
    "# Loop through each keypoint specified in the KEYPOINTS list\n",
    "for keypoint in KEYPOINTS:\n",
    "    # Extracting original x and y coordinates\n",
    "    x_original = keypoints_df[f'{keypoint}_x'].values\n",
    "    y_original = keypoints_df[f'{keypoint}_y'].values\n",
    "    time_original = keypoints_df['time_ms'].values\n",
    "\n",
    "    # Interpolation for upsampling to 10 ms intervals\n",
    "    interp_x = interp1d(time_original, x_original, kind='linear')\n",
    "    interp_y = interp1d(time_original, y_original, kind='linear')\n",
    "    x_upsampled = interp_x(new_time_series)\n",
    "    y_upsampled = interp_y(new_time_series)\n",
    "\n",
    "    # Smoothing using Savitzky-Golay filter\n",
    "    window_length = 11  # Choose an appropriate window length\n",
    "    polyorder = 3  # Choose an appropriate polynomial order\n",
    "    x_smooth = savgol_filter(x_upsampled, window_length, polyorder)\n",
    "    y_smooth = savgol_filter(y_upsampled, window_length, polyorder)\n",
    "\n",
    "    # Speed calculation\n",
    "    delta_time = np.diff(new_time_series)\n",
    "    delta_x = np.diff(x_smooth) / delta_time\n",
    "    delta_y = np.diff(y_smooth) / delta_time\n",
    "    speed = np.sqrt(np.nan_to_num(delta_x ** 2 + delta_y ** 2) / delta_time)\n",
    "    \n",
    "    # Normalize speed to make it comparable across participants\n",
    "    speed = speed / np.nanmax(speed)\n",
    "    \n",
    "    # if speed is below the 20th percentile, set it to 0\n",
    "    speed[speed < np.nanpercentile(speed, 50)] = 0\n",
    "    \n",
    "    # smooth the speed\n",
    "    speed = savgol_filter(speed, 11, 3)\n",
    "\n",
    "    # Add to the final DataFrame\n",
    "    temp_df = pd.DataFrame({\n",
    "        'time_ms': new_time_series[:-1],\n",
    "        f'{keypoint}_x': x_smooth[:-1],\n",
    "        f'{keypoint}_y': y_smooth[:-1],\n",
    "        f'{keypoint}_speed': speed,\n",
    "        f'{keypoint}_delta_x': delta_x,\n",
    "        f'{keypoint}_delta_y': delta_y, \n",
    "    })\n",
    "    if final_df.empty:\n",
    "        final_df = temp_df\n",
    "    else:\n",
    "        final_df = pd.merge(final_df, temp_df, on='time_ms', how='right')\n",
    "\n",
    "final_df.head()"
   ]
  },
  {
   "cell_type": "code",
   "execution_count": null,
   "id": "8088078a",
   "metadata": {},
   "outputs": [],
   "source": [
    "print(\"Length of x_upsampled:\", len(x_upsampled))\n",
    "print(\"Length of y_upsampled:\", len(y_upsampled))\n",
    "print(len(new_time_series))"
   ]
  },
  {
   "cell_type": "markdown",
   "id": "189620dc",
   "metadata": {},
   "source": [
    "### <strong>Save Aligned Data as CSV</strong>\n",
    "Finally, the aligned data is saved as a CSV file. You can specify the destination path for the output file."
   ]
  },
  {
   "cell_type": "code",
   "execution_count": null,
   "id": "88774f98",
   "metadata": {},
   "outputs": [],
   "source": [
    "# Save the aligned data as a CSV file\n",
    "final_df.to_csv(f'../Upsampled/'+ PARTICIPANT + '_processed_data.csv', index=False)\n",
    "final_df.head()\n",
    "\n",
    "print(f'File saved as {PARTICIPANT}_processed_data.csv')"
   ]
  },
  {
   "cell_type": "markdown",
   "id": "9a690515",
   "metadata": {},
   "source": [
    "### <strong>Plot Data</strong>\n",
    "\n",
    "The `plot()` function is used to plot the unsmoothed and smoothed speed over time. The `label` parameter is used to set the legend label for each line. The `color` parameter is used to set the color of each line.\n",
    "\n"
   ]
  },
  {
   "cell_type": "code",
   "execution_count": null,
   "id": "92c1747e",
   "metadata": {},
   "outputs": [],
   "source": [
    "import plotly.graph_objects as go\n",
    "\n",
    "# Create traces\n",
    "trace0 = go.Scatter(x=final_df['time_ms'], y=final_df['right_wrist_speed'], mode='lines', name='Right Wrist Speed')\n",
    "trace1 = go.Scatter(x=final_df['time_ms'], y=final_df['right_wrist_delta_x'], mode='lines', name='Right Wrist Raw Velocity X', yaxis='y2')\n",
    "trace2 = go.Scatter(x=final_df['time_ms'], y=final_df['right_wrist_delta_y'], mode='lines', name='Right Wrist Raw Velocity Y', yaxis='y2')\n",
    "\n",
    "# Create layout\n",
    "layout = go.Layout(title='Right Wrist Speed and Velocity', xaxis=dict(title='Time (ms)'), yaxis1=dict(title='Speed', overlaying='y', side='left'))\n",
    "\n",
    "# Create figure\n",
    "fig = go.Figure(data=[trace0], layout=layout)\n",
    "\n",
    "# Show figure\n",
    "fig.show()"
   ]
  },
  {
   "cell_type": "code",
   "execution_count": null,
   "id": "a1b0d475",
   "metadata": {},
   "outputs": [],
   "source": []
  }
 ],
 "metadata": {
  "kernelspec": {
   "display_name": "Python 3",
   "language": "python",
   "name": "python3"
  },
  "language_info": {
   "codemirror_mode": {
    "name": "ipython",
    "version": 3
   },
   "file_extension": ".py",
   "mimetype": "text/x-python",
   "name": "python",
   "nbconvert_exporter": "python",
   "pygments_lexer": "ipython3",
   "version": "3.11.7"
  }
 },
 "nbformat": 4,
 "nbformat_minor": 5
}
