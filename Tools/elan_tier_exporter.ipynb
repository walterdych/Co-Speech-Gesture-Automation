{
 "cells": [
  {
   "cell_type": "code",
   "execution_count": 1,
   "id": "f60d6877-1cf9-41b0-9378-6094d29f6520",
   "metadata": {},
   "outputs": [],
   "source": [
    "import os\n",
    "import pandas as pd\n",
    "from pympi.Elan import Eaf"
   ]
  },
  {
   "cell_type": "code",
   "execution_count": 2,
   "id": "f1ee36bc-92c2-4bd1-b836-0f6517a601d7",
   "metadata": {},
   "outputs": [],
   "source": [
    "# Variables for user input\n",
    "input_directory = '/n/kfranich_speech_l3/Lab/6000_EMA/annotations/completed/SN6014_ARTGEST_ENG' # Replace with the path to your input directory\n",
    "output_directory = '/n/kfranich_speech_l3/Lab/6000_EMA/processed_articulatory_data/video_processing/elan_phases/SN6014_ARTGEST_ENG_VIDAUD' # Replace with the path to your output directory\n",
    "tier_name = 'Manual Gesture Phasing' # Replace with the name of the tier you want to extract"
   ]
  },
  {
   "cell_type": "code",
   "execution_count": 15,
   "id": "d79f2ee6-2cc5-43c1-b6c2-6bef0e26075e",
   "metadata": {},
   "outputs": [],
   "source": [
    "def extract_annotations(input_dir, output_dir, tier):\n",
    "    \"\"\"Extracts annotations from .eaf files and saves them to individual CSV files.\"\"\"\n",
    "    \n",
    "    # Iterate through each file in the input directory\n",
    "    for filename in os.listdir(input_dir):\n",
    "        if filename.endswith('.eaf'):\n",
    "            # Construct the full file path\n",
    "            file_path = os.path.join(input_dir, filename)\n",
    "            \n",
    "            # Read the .eaf file\n",
    "            eaf_obj = Eaf(file_path)\n",
    "            \n",
    "            # Check if the specified tier exists\n",
    "            if tier in eaf_obj.get_tier_names():\n",
    "                # Extract annotations from the tier\n",
    "                annotations = []\n",
    "                for start_time, end_time, value in eaf_obj.get_annotation_data_for_tier(tier):\n",
    "                    annotations.append([start_time, end_time, value])\n",
    "                \n",
    "                # Convert to DataFrame\n",
    "                df = pd.DataFrame(annotations, columns=['Start Time', 'End Time', 'Annotation'])\n",
    "                \n",
    "                # Save to CSV\n",
    "                output_file = os.path.join(output_dir, f'{os.path.splitext(filename)[0]}_annotations.csv')\n",
    "                df.to_csv(output_file, index=False)\n",
    "                print(f'Annotations from {filename} exported to {output_file}')\n",
    "            else:\n",
    "                print(f'Tier {tier} not found in {filename}')"
   ]
  },
  {
   "cell_type": "code",
   "execution_count": 16,
   "id": "21d7e05a-94fc-435c-b4ae-abc25bdc6265",
   "metadata": {},
   "outputs": [
    {
     "name": "stdout",
     "output_type": "stream",
     "text": [
      "Annotations from SN6009_ARTGEST_ENG_G_CVC.eaf exported to /n/kfranich_speech_l3/Lab/6000_EMA/processed_articulatory_data/video_processing/elan_phases/SN6009_ARTGEST_ENG_VIDAUD/SN6009_ARTGEST_ENG_G_CVC_annotations.csv\n",
      "Annotations from SN6009_ARTGEST_ENG_G_CVCV_FIN.eaf exported to /n/kfranich_speech_l3/Lab/6000_EMA/processed_articulatory_data/video_processing/elan_phases/SN6009_ARTGEST_ENG_VIDAUD/SN6009_ARTGEST_ENG_G_CVCV_FIN_annotations.csv\n",
      "Annotations from SN6009_ARTGEST_ENG_G_VCV_FIN.eaf exported to /n/kfranich_speech_l3/Lab/6000_EMA/processed_articulatory_data/video_processing/elan_phases/SN6009_ARTGEST_ENG_VIDAUD/SN6009_ARTGEST_ENG_G_VCV_FIN_annotations.csv\n",
      "Annotations from SN6009_ARTGEST_ENG_G_VCV_IN.eaf exported to /n/kfranich_speech_l3/Lab/6000_EMA/processed_articulatory_data/video_processing/elan_phases/SN6009_ARTGEST_ENG_VIDAUD/SN6009_ARTGEST_ENG_G_VCV_IN_annotations.csv\n",
      "Annotations from SN6009_ARTGEST_ENG_G_CVCV_IN.eaf exported to /n/kfranich_speech_l3/Lab/6000_EMA/processed_articulatory_data/video_processing/elan_phases/SN6009_ARTGEST_ENG_VIDAUD/SN6009_ARTGEST_ENG_G_CVCV_IN_annotations.csv\n"
     ]
    }
   ],
   "source": [
    "extract_annotations(input_directory, output_directory, tier_name)"
   ]
  },
  {
   "cell_type": "code",
   "execution_count": null,
   "id": "a1d6db51-2fe8-4ec4-bf4d-491a62153830",
   "metadata": {},
   "outputs": [],
   "source": []
  }
 ],
 "metadata": {
  "kernelspec": {
   "display_name": "Python 3",
   "language": "python",
   "name": "python3"
  },
  "language_info": {
   "codemirror_mode": {
    "name": "ipython",
    "version": 3
   },
   "file_extension": ".py",
   "mimetype": "text/x-python",
   "name": "python",
   "nbconvert_exporter": "python",
   "pygments_lexer": "ipython3",
   "version": "3.8.8"
  }
 },
 "nbformat": 4,
 "nbformat_minor": 5
}
