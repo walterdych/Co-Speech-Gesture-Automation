{
 "cells": [
  {
   "cell_type": "code",
   "execution_count": null,
   "id": "6db2f245",
   "metadata": {},
   "outputs": [],
   "source": [
    "\n",
    "import pandas as pd\n",
    "import numpy as np\n",
    "from scipy.signal import savgol_filter\n",
    "from scipy.interpolate import interp1d\n",
    "import matplotlib.pyplot as plt\n",
    "\n",
    "PARTICIPANT = \"5003_I_board_one\"\n",
    "KEYPOINTS = [\"right_wrist\", \"left_wrist\"]  # Add or remove keypoints as needed\n"
   ]
  },
  {
   "cell_type": "code",
   "execution_count": null,
   "id": "45310dff",
   "metadata": {},
   "outputs": [],
   "source": [
    "\n",
    "# Load keypoint data\n",
    "file_path = '5003_I_board_one_keypoints.csv'  # Update this path to your actual file path\n",
    "keypoints_df = pd.read_csv(file_path)\n",
    "keypoints_df = pd.DataFrame(keypoints_df)\n",
    "keypoints_df.head()\n"
   ]
  },
  {
   "cell_type": "code",
   "execution_count": null,
   "id": "4890a033",
   "metadata": {},
   "outputs": [],
   "source": [
    "\n",
    "# Initialize an empty DataFrame to store final results\n",
    "final_df = pd.DataFrame({'time_ms': keypoints_df['time_ms']})\n",
    "\n",
    "# Loop through each keypoint specified in the KEYPOINTS list\n",
    "for keypoint in KEYPOINTS:\n",
    "    # Extracting original x and y coordinates\n",
    "    x_original = keypoints_df[f'{keypoint}_x'].values\n",
    "    y_original = keypoints_df[f'{keypoint}_y'].values\n",
    "    time_original = keypoints_df['time_ms'].values\n",
    "\n",
    "    # Interpolation for upsampling\n",
    "    time_upsampled = np.linspace(time_original[0], time_original[-1], len(time_original) * 10)\n",
    "    interp_x = interp1d(time_original, x_original, kind='linear')\n",
    "    interp_y = interp1d(time_original, y_original, kind='linear')\n",
    "    x_upsampled = interp_x(time_upsampled)\n",
    "    y_upsampled = interp_y(time_upsampled)\n",
    "\n",
    "    # Smoothing using Savitzky-Golay filter\n",
    "    window_length = 51  # Choose an appropriate window length\n",
    "    polyorder = 3  # Choose an appropriate polynomial order\n",
    "    x_smooth = savgol_filter(x_upsampled, window_length, polyorder)\n",
    "    y_smooth = savgol_filter(y_upsampled, window_length, polyorder)\n",
    "\n",
    "    # Speed calculation\n",
    "    delta_time = np.diff(time_upsampled)\n",
    "    speed_x = np.diff(x_smooth) / delta_time\n",
    "    speed_y = np.diff(y_smooth) / delta_time\n",
    "    speed = np.sqrt(speed_x ** 2 + speed_y ** 2)\n",
    "\n",
    "    # Add to the final DataFrame\n",
    "    temp_df = pd.DataFrame({\n",
    "        'time_ms': time_upsampled[:-1],\n",
    "        f'{keypoint}_x': x_smooth[:-1],\n",
    "        f'{keypoint}_y': y_smooth[:-1],\n",
    "        f'{keypoint}_speed': speed\n",
    "    })\n",
    "    final_df = pd.merge(final_df, temp_df, on='time_ms', how='right')\n",
    "\n",
    "final_df.head()\n"
   ]
  }
 ],
 "metadata": {
  "kernelspec": {
   "display_name": "Python 3",
   "language": "python",
   "name": "python3"
  },
  "language_info": {
   "name": "python",
   "version": "0.0.0"
  }
 },
 "nbformat": 4,
 "nbformat_minor": 5
}
