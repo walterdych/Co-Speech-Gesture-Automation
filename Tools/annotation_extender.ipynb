{
 "cells": [
  {
   "cell_type": "code",
   "execution_count": 1,
   "id": "b1b282c0-4750-4d0d-a292-53533cacc68b",
   "metadata": {},
   "outputs": [],
   "source": [
    "import os\n",
    "import glob\n",
    "import pandas as pd\n",
    "pd.options.mode.chained_assignment = None  # Suppress SettingWithCopyWarning"
   ]
  },
  {
   "cell_type": "code",
   "execution_count": 2,
   "id": "c8ef1aaa-d60e-4b65-8518-9e87838355f3",
   "metadata": {},
   "outputs": [],
   "source": [
    "def extend_annotations(directory):\n",
    "    # Pattern to match all CSV files in the directory\n",
    "    file_pattern = os.path.join(directory, '*_annotations.csv')\n",
    "\n",
    "    for file_path in glob.glob(file_pattern):\n",
    "        # Read the CSV file\n",
    "        df = pd.read_csv(file_path)\n",
    "\n",
    "        # Filter out rows where the 'Annotation' column isn't 'S'\n",
    "        df_filtered = df[df['Annotation'] == 'S']\n",
    "\n",
    "        # Add 33 milliseconds to the 'End Time'\n",
    "        df_filtered['End Time'] += 33\n",
    "\n",
    "        # Construct the new file name\n",
    "        new_file_name = os.path.splitext(file_path)[0] + '_extended_annotations.csv'\n",
    "\n",
    "        # Save the modified data\n",
    "        df_filtered.to_csv(new_file_name, index=False)"
   ]
  },
  {
   "cell_type": "code",
   "execution_count": null,
   "id": "7fd065ea-6246-4eeb-be0e-05f35a492d9c",
   "metadata": {},
   "outputs": [],
   "source": [
    "extend_annotations('/n/kfranich_speech_l3/Lab/6000_EMA/processed_articulatory_data/video_processing/elan_phases/SN6014_ARTGEST_ENG/')"
   ]
  }
 ],
 "metadata": {
  "kernelspec": {
   "display_name": "Python 3",
   "language": "python",
   "name": "python3"
  },
  "language_info": {
   "codemirror_mode": {
    "name": "ipython",
    "version": 3
   },
   "file_extension": ".py",
   "mimetype": "text/x-python",
   "name": "python",
   "nbconvert_exporter": "python",
   "pygments_lexer": "ipython3",
   "version": "3.8.8"
  }
 },
 "nbformat": 4,
 "nbformat_minor": 5
}
