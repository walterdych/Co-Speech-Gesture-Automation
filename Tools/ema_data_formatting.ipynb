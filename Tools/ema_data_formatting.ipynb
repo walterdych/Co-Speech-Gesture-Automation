{
 "cells": [
  {
   "cell_type": "code",
   "execution_count": 2,
   "id": "f2181afd-2859-435b-a363-f74302793be6",
   "metadata": {},
   "outputs": [],
   "source": [
    "import os\n",
    "import pandas as pd\n",
    "import glob"
   ]
  },
  {
   "cell_type": "code",
   "execution_count": 12,
   "id": "0700190d-5307-409e-8927-0f2019f585b6",
   "metadata": {},
   "outputs": [
    {
     "name": "stdout",
     "output_type": "stream",
     "text": [
      "File has been successfully modified and saved as /n/kfranich_speech_l3/Lab/6000_EMA/processed_articulatory_data/video_processing/elan_importable_annotations/SN6014_ARTGEST_ENG/SN6014_ARTGEST_ENG_G_VCV_FIN_completed_apexes.csv\n"
     ]
    }
   ],
   "source": [
    "# Load your CSV file\n",
    "file_path = '/n/kfranich_speech_l3/Lab/6000_EMA/processed_articulatory_data/video_processing/elan_importable_annotations/SN6014_ARTGEST_ENG/SN6014_ARTGEST_ENG_G_VCV_FIN_final_annotations_elan_apexes.csv'\n",
    "df = pd.read_csv(file_path)\n",
    "\n",
    "# Add new columns with the specified data\n",
    "df['subject'] = 'SN6014'\n",
    "df['barename'] = 'SN6014_ARTGEST_ENG_G_VCV_FIN'\n",
    "df['task'] = 'G_CP_VCV_FIN'\n",
    "\n",
    "# Save the modified DataFrame to a new CSV file\n",
    "output_file_path = '/n/kfranich_speech_l3/Lab/6000_EMA/processed_articulatory_data/video_processing/elan_importable_annotations/SN6014_ARTGEST_ENG/SN6014_ARTGEST_ENG_G_VCV_FIN_completed_apexes.csv'\n",
    "df.to_csv(output_file_path, index=False)\n",
    "\n",
    "print(f\"File has been successfully modified and saved as {output_file_path}\")\n"
   ]
  },
  {
   "cell_type": "code",
   "execution_count": null,
   "id": "f5746f7e-1232-4d07-8704-17c8551c0bb0",
   "metadata": {},
   "outputs": [],
   "source": []
  }
 ],
 "metadata": {
  "kernelspec": {
   "display_name": "Python [conda env:kfranich_lab]",
   "language": "python",
   "name": "conda-env-kfranich_lab-py"
  },
  "language_info": {
   "codemirror_mode": {
    "name": "ipython",
    "version": 3
   },
   "file_extension": ".py",
   "mimetype": "text/x-python",
   "name": "python",
   "nbconvert_exporter": "python",
   "pygments_lexer": "ipython3",
   "version": "3.11.6"
  }
 },
 "nbformat": 4,
 "nbformat_minor": 5
}
